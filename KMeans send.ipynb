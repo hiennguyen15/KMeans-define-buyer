{
 "cells": [
  {
   "cell_type": "code",
   "execution_count": 419,
   "metadata": {
    "ExecuteTime": {
     "end_time": "2019-02-27T05:03:20.929693Z",
     "start_time": "2019-02-27T05:03:20.924713Z"
    }
   },
   "outputs": [],
   "source": [
    "import numpy as np\n",
    "import matplotlib.pyplot as plt\n",
    "import pandas as pd\n",
    "import seaborn as sns\n",
    "import warnings\n",
    "warnings.filterwarnings(\"ignore\")"
   ]
  },
  {
   "cell_type": "code",
   "execution_count": 421,
   "metadata": {
    "ExecuteTime": {
     "end_time": "2019-02-27T05:03:28.902549Z",
     "start_time": "2019-02-27T05:03:22.313318Z"
    }
   },
   "outputs": [],
   "source": [
    "cur = con.cursor()\n",
    "cur.execute('select unique_id,entering_visit,adview,lead,open_site,time_spent from ct_nha.mkt_define_buyer_app')\n",
    "table = cur.fetchall()"
   ]
  },
  {
   "cell_type": "code",
   "execution_count": 422,
   "metadata": {
    "ExecuteTime": {
     "end_time": "2019-02-27T05:03:29.418490Z",
     "start_time": "2019-02-27T05:03:29.309649Z"
    }
   },
   "outputs": [],
   "source": [
    "df = pd.DataFrame(table, columns=['unique_id','EV','adview','lead','open_site','time_spent'])"
   ]
  },
  {
   "cell_type": "code",
   "execution_count": 423,
   "metadata": {
    "ExecuteTime": {
     "end_time": "2019-02-27T05:03:30.194036Z",
     "start_time": "2019-02-27T05:03:29.747941Z"
    }
   },
   "outputs": [],
   "source": [
    "df['EV'] = df['EV'].astype('float')\n",
    "df['adview'] = df['adview'].astype('float')\n",
    "df['lead'] = df['lead'].astype('float')\n",
    "df['open_site'] = df['open_site'].astype('float')\n",
    "df['time_spent'] = df['time_spent'].astype('float')"
   ]
  },
  {
   "cell_type": "code",
   "execution_count": 424,
   "metadata": {
    "ExecuteTime": {
     "end_time": "2019-02-27T05:03:30.689126Z",
     "start_time": "2019-02-27T05:03:30.636279Z"
    }
   },
   "outputs": [
    {
     "name": "stdout",
     "output_type": "stream",
     "text": [
      "<class 'pandas.core.frame.DataFrame'>\n",
      "RangeIndex: 184156 entries, 0 to 184155\n",
      "Data columns (total 6 columns):\n",
      "unique_id     184155 non-null object\n",
      "EV            184155 non-null float64\n",
      "adview        156798 non-null float64\n",
      "lead          28037 non-null float64\n",
      "open_site     184155 non-null float64\n",
      "time_spent    184155 non-null float64\n",
      "dtypes: float64(5), object(1)\n",
      "memory usage: 8.4+ MB\n"
     ]
    }
   ],
   "source": [
    "df.info()"
   ]
  },
  {
   "cell_type": "code",
   "execution_count": 425,
   "metadata": {
    "ExecuteTime": {
     "end_time": "2019-02-27T05:03:31.049404Z",
     "start_time": "2019-02-27T05:03:31.018263Z"
    }
   },
   "outputs": [],
   "source": [
    "df.dropna(subset=['unique_id'],how='all',inplace=True)"
   ]
  },
  {
   "cell_type": "code",
   "execution_count": 426,
   "metadata": {
    "ExecuteTime": {
     "end_time": "2019-02-27T05:03:31.429767Z",
     "start_time": "2019-02-27T05:03:31.390841Z"
    }
   },
   "outputs": [
    {
     "name": "stdout",
     "output_type": "stream",
     "text": [
      "<class 'pandas.core.frame.DataFrame'>\n",
      "Int64Index: 184155 entries, 0 to 184155\n",
      "Data columns (total 6 columns):\n",
      "unique_id     184155 non-null object\n",
      "EV            184155 non-null float64\n",
      "adview        156798 non-null float64\n",
      "lead          28036 non-null float64\n",
      "open_site     184155 non-null float64\n",
      "time_spent    184155 non-null float64\n",
      "dtypes: float64(5), object(1)\n",
      "memory usage: 9.8+ MB\n"
     ]
    }
   ],
   "source": [
    "df.info()"
   ]
  },
  {
   "cell_type": "code",
   "execution_count": 427,
   "metadata": {
    "ExecuteTime": {
     "end_time": "2019-02-27T05:03:31.757639Z",
     "start_time": "2019-02-27T05:03:31.747203Z"
    }
   },
   "outputs": [
    {
     "data": {
      "text/html": [
       "<div>\n",
       "<style scoped>\n",
       "    .dataframe tbody tr th:only-of-type {\n",
       "        vertical-align: middle;\n",
       "    }\n",
       "\n",
       "    .dataframe tbody tr th {\n",
       "        vertical-align: top;\n",
       "    }\n",
       "\n",
       "    .dataframe thead th {\n",
       "        text-align: right;\n",
       "    }\n",
       "</style>\n",
       "<table border=\"1\" class=\"dataframe\">\n",
       "  <thead>\n",
       "    <tr style=\"text-align: right;\">\n",
       "      <th></th>\n",
       "      <th>unique_id</th>\n",
       "      <th>EV</th>\n",
       "      <th>adview</th>\n",
       "      <th>lead</th>\n",
       "      <th>open_site</th>\n",
       "      <th>time_spent</th>\n",
       "    </tr>\n",
       "  </thead>\n",
       "  <tbody>\n",
       "    <tr>\n",
       "      <th>0</th>\n",
       "      <td>-5845554329077482100</td>\n",
       "      <td>45.0</td>\n",
       "      <td>467.0</td>\n",
       "      <td>NaN</td>\n",
       "      <td>7.0</td>\n",
       "      <td>3732.0</td>\n",
       "    </tr>\n",
       "    <tr>\n",
       "      <th>1</th>\n",
       "      <td>-7035673743656120698</td>\n",
       "      <td>26.0</td>\n",
       "      <td>262.0</td>\n",
       "      <td>7.0</td>\n",
       "      <td>6.0</td>\n",
       "      <td>3015.0</td>\n",
       "    </tr>\n",
       "    <tr>\n",
       "      <th>2</th>\n",
       "      <td>-6837294526721035123</td>\n",
       "      <td>26.0</td>\n",
       "      <td>68.0</td>\n",
       "      <td>NaN</td>\n",
       "      <td>7.0</td>\n",
       "      <td>2825.0</td>\n",
       "    </tr>\n",
       "    <tr>\n",
       "      <th>3</th>\n",
       "      <td>-8702352662730898996</td>\n",
       "      <td>25.0</td>\n",
       "      <td>298.0</td>\n",
       "      <td>1.0</td>\n",
       "      <td>6.0</td>\n",
       "      <td>5707.0</td>\n",
       "    </tr>\n",
       "    <tr>\n",
       "      <th>4</th>\n",
       "      <td>-5366375133062290962</td>\n",
       "      <td>32.0</td>\n",
       "      <td>183.0</td>\n",
       "      <td>4.0</td>\n",
       "      <td>7.0</td>\n",
       "      <td>1996.0</td>\n",
       "    </tr>\n",
       "  </tbody>\n",
       "</table>\n",
       "</div>"
      ],
      "text/plain": [
       "              unique_id    EV  adview  lead  open_site  time_spent\n",
       "0  -5845554329077482100  45.0   467.0   NaN        7.0      3732.0\n",
       "1  -7035673743656120698  26.0   262.0   7.0        6.0      3015.0\n",
       "2  -6837294526721035123  26.0    68.0   NaN        7.0      2825.0\n",
       "3  -8702352662730898996  25.0   298.0   1.0        6.0      5707.0\n",
       "4  -5366375133062290962  32.0   183.0   4.0        7.0      1996.0"
      ]
     },
     "execution_count": 427,
     "metadata": {},
     "output_type": "execute_result"
    }
   ],
   "source": [
    "df.head()"
   ]
  },
  {
   "cell_type": "code",
   "execution_count": 428,
   "metadata": {
    "ExecuteTime": {
     "end_time": "2019-02-27T05:03:32.088753Z",
     "start_time": "2019-02-27T05:03:32.085603Z"
    }
   },
   "outputs": [],
   "source": [
    "#df.replace({'Login with phone':1,'None Logged-in user':0,'None Logged-in':0,'-':0,'Login with Facebook':1,'Login with phone & Fb':1},inplace=True)"
   ]
  },
  {
   "cell_type": "code",
   "execution_count": 429,
   "metadata": {
    "ExecuteTime": {
     "end_time": "2019-02-27T05:03:32.449756Z",
     "start_time": "2019-02-27T05:03:32.438416Z"
    }
   },
   "outputs": [
    {
     "data": {
      "text/html": [
       "<div>\n",
       "<style scoped>\n",
       "    .dataframe tbody tr th:only-of-type {\n",
       "        vertical-align: middle;\n",
       "    }\n",
       "\n",
       "    .dataframe tbody tr th {\n",
       "        vertical-align: top;\n",
       "    }\n",
       "\n",
       "    .dataframe thead th {\n",
       "        text-align: right;\n",
       "    }\n",
       "</style>\n",
       "<table border=\"1\" class=\"dataframe\">\n",
       "  <thead>\n",
       "    <tr style=\"text-align: right;\">\n",
       "      <th></th>\n",
       "      <th>unique_id</th>\n",
       "      <th>EV</th>\n",
       "      <th>adview</th>\n",
       "      <th>lead</th>\n",
       "      <th>open_site</th>\n",
       "      <th>time_spent</th>\n",
       "    </tr>\n",
       "  </thead>\n",
       "  <tbody>\n",
       "    <tr>\n",
       "      <th>0</th>\n",
       "      <td>-5845554329077482100</td>\n",
       "      <td>45.0</td>\n",
       "      <td>467.0</td>\n",
       "      <td>NaN</td>\n",
       "      <td>7.0</td>\n",
       "      <td>3732.0</td>\n",
       "    </tr>\n",
       "    <tr>\n",
       "      <th>1</th>\n",
       "      <td>-7035673743656120698</td>\n",
       "      <td>26.0</td>\n",
       "      <td>262.0</td>\n",
       "      <td>7.0</td>\n",
       "      <td>6.0</td>\n",
       "      <td>3015.0</td>\n",
       "    </tr>\n",
       "    <tr>\n",
       "      <th>2</th>\n",
       "      <td>-6837294526721035123</td>\n",
       "      <td>26.0</td>\n",
       "      <td>68.0</td>\n",
       "      <td>NaN</td>\n",
       "      <td>7.0</td>\n",
       "      <td>2825.0</td>\n",
       "    </tr>\n",
       "    <tr>\n",
       "      <th>3</th>\n",
       "      <td>-8702352662730898996</td>\n",
       "      <td>25.0</td>\n",
       "      <td>298.0</td>\n",
       "      <td>1.0</td>\n",
       "      <td>6.0</td>\n",
       "      <td>5707.0</td>\n",
       "    </tr>\n",
       "    <tr>\n",
       "      <th>4</th>\n",
       "      <td>-5366375133062290962</td>\n",
       "      <td>32.0</td>\n",
       "      <td>183.0</td>\n",
       "      <td>4.0</td>\n",
       "      <td>7.0</td>\n",
       "      <td>1996.0</td>\n",
       "    </tr>\n",
       "  </tbody>\n",
       "</table>\n",
       "</div>"
      ],
      "text/plain": [
       "              unique_id    EV  adview  lead  open_site  time_spent\n",
       "0  -5845554329077482100  45.0   467.0   NaN        7.0      3732.0\n",
       "1  -7035673743656120698  26.0   262.0   7.0        6.0      3015.0\n",
       "2  -6837294526721035123  26.0    68.0   NaN        7.0      2825.0\n",
       "3  -8702352662730898996  25.0   298.0   1.0        6.0      5707.0\n",
       "4  -5366375133062290962  32.0   183.0   4.0        7.0      1996.0"
      ]
     },
     "execution_count": 429,
     "metadata": {},
     "output_type": "execute_result"
    }
   ],
   "source": [
    "df.head()"
   ]
  },
  {
   "cell_type": "code",
   "execution_count": 430,
   "metadata": {
    "ExecuteTime": {
     "end_time": "2019-02-27T05:03:32.801945Z",
     "start_time": "2019-02-27T05:03:32.785281Z"
    }
   },
   "outputs": [],
   "source": [
    "df.fillna(0,inplace=True)"
   ]
  },
  {
   "cell_type": "code",
   "execution_count": 431,
   "metadata": {
    "ExecuteTime": {
     "end_time": "2019-02-27T05:03:33.247011Z",
     "start_time": "2019-02-27T05:03:33.163831Z"
    }
   },
   "outputs": [
    {
     "data": {
      "text/html": [
       "<div>\n",
       "<style scoped>\n",
       "    .dataframe tbody tr th:only-of-type {\n",
       "        vertical-align: middle;\n",
       "    }\n",
       "\n",
       "    .dataframe tbody tr th {\n",
       "        vertical-align: top;\n",
       "    }\n",
       "\n",
       "    .dataframe thead th {\n",
       "        text-align: right;\n",
       "    }\n",
       "</style>\n",
       "<table border=\"1\" class=\"dataframe\">\n",
       "  <thead>\n",
       "    <tr style=\"text-align: right;\">\n",
       "      <th></th>\n",
       "      <th>EV</th>\n",
       "      <th>adview</th>\n",
       "      <th>lead</th>\n",
       "      <th>open_site</th>\n",
       "      <th>time_spent</th>\n",
       "    </tr>\n",
       "  </thead>\n",
       "  <tbody>\n",
       "    <tr>\n",
       "      <th>count</th>\n",
       "      <td>184155.000000</td>\n",
       "      <td>184155.000000</td>\n",
       "      <td>184155.000000</td>\n",
       "      <td>184155.000000</td>\n",
       "      <td>184155.000000</td>\n",
       "    </tr>\n",
       "    <tr>\n",
       "      <th>mean</th>\n",
       "      <td>3.265782</td>\n",
       "      <td>28.280698</td>\n",
       "      <td>0.818794</td>\n",
       "      <td>2.232293</td>\n",
       "      <td>1439.987511</td>\n",
       "    </tr>\n",
       "    <tr>\n",
       "      <th>std</th>\n",
       "      <td>5.427621</td>\n",
       "      <td>81.437762</td>\n",
       "      <td>17.850883</td>\n",
       "      <td>1.707563</td>\n",
       "      <td>1734.095870</td>\n",
       "    </tr>\n",
       "    <tr>\n",
       "      <th>min</th>\n",
       "      <td>0.000000</td>\n",
       "      <td>0.000000</td>\n",
       "      <td>0.000000</td>\n",
       "      <td>0.000000</td>\n",
       "      <td>0.000000</td>\n",
       "    </tr>\n",
       "    <tr>\n",
       "      <th>25%</th>\n",
       "      <td>1.000000</td>\n",
       "      <td>1.000000</td>\n",
       "      <td>0.000000</td>\n",
       "      <td>1.000000</td>\n",
       "      <td>348.000000</td>\n",
       "    </tr>\n",
       "    <tr>\n",
       "      <th>50%</th>\n",
       "      <td>1.000000</td>\n",
       "      <td>6.000000</td>\n",
       "      <td>0.000000</td>\n",
       "      <td>1.000000</td>\n",
       "      <td>873.000000</td>\n",
       "    </tr>\n",
       "    <tr>\n",
       "      <th>75%</th>\n",
       "      <td>3.000000</td>\n",
       "      <td>25.000000</td>\n",
       "      <td>0.000000</td>\n",
       "      <td>3.000000</td>\n",
       "      <td>1883.000000</td>\n",
       "    </tr>\n",
       "    <tr>\n",
       "      <th>max</th>\n",
       "      <td>152.000000</td>\n",
       "      <td>7343.000000</td>\n",
       "      <td>5201.000000</td>\n",
       "      <td>7.000000</td>\n",
       "      <td>32871.000000</td>\n",
       "    </tr>\n",
       "  </tbody>\n",
       "</table>\n",
       "</div>"
      ],
      "text/plain": [
       "                  EV         adview           lead      open_site  \\\n",
       "count  184155.000000  184155.000000  184155.000000  184155.000000   \n",
       "mean        3.265782      28.280698       0.818794       2.232293   \n",
       "std         5.427621      81.437762      17.850883       1.707563   \n",
       "min         0.000000       0.000000       0.000000       0.000000   \n",
       "25%         1.000000       1.000000       0.000000       1.000000   \n",
       "50%         1.000000       6.000000       0.000000       1.000000   \n",
       "75%         3.000000      25.000000       0.000000       3.000000   \n",
       "max       152.000000    7343.000000    5201.000000       7.000000   \n",
       "\n",
       "          time_spent  \n",
       "count  184155.000000  \n",
       "mean     1439.987511  \n",
       "std      1734.095870  \n",
       "min         0.000000  \n",
       "25%       348.000000  \n",
       "50%       873.000000  \n",
       "75%      1883.000000  \n",
       "max     32871.000000  "
      ]
     },
     "execution_count": 431,
     "metadata": {},
     "output_type": "execute_result"
    }
   ],
   "source": [
    "df.describe()"
   ]
  },
  {
   "cell_type": "code",
   "execution_count": 432,
   "metadata": {
    "ExecuteTime": {
     "end_time": "2019-02-27T05:03:33.591294Z",
     "start_time": "2019-02-27T05:03:33.588021Z"
    }
   },
   "outputs": [],
   "source": [
    "cur.close()\n",
    "con.close()"
   ]
  },
  {
   "cell_type": "code",
   "execution_count": 433,
   "metadata": {
    "ExecuteTime": {
     "end_time": "2019-02-27T05:03:33.985466Z",
     "start_time": "2019-02-27T05:03:33.970271Z"
    }
   },
   "outputs": [],
   "source": [
    "df = df[df.open_site >0]"
   ]
  },
  {
   "cell_type": "code",
   "execution_count": 434,
   "metadata": {
    "ExecuteTime": {
     "end_time": "2019-02-27T05:03:34.712362Z",
     "start_time": "2019-02-27T05:03:34.377788Z"
    }
   },
   "outputs": [
    {
     "data": {
      "text/plain": [
       "<matplotlib.axes._subplots.AxesSubplot at 0x1a633dab00>"
      ]
     },
     "execution_count": 434,
     "metadata": {},
     "output_type": "execute_result"
    },
    {
     "data": {
      "image/png": "[encoded data removed]",
      "text/plain": [
       "<Figure size 432x288 with 1 Axes>"
      ]
     },
     "metadata": {
      "needs_background": "light"
     },
     "output_type": "display_data"
    }
   ],
   "source": [
    "sns.distplot(df.EV)"
   ]
  },
  {
   "cell_type": "code",
   "execution_count": 435,
   "metadata": {
    "ExecuteTime": {
     "end_time": "2019-02-27T05:03:35.363086Z",
     "start_time": "2019-02-27T05:03:35.119433Z"
    }
   },
   "outputs": [],
   "source": [
    "df.EV[df.EV > 20] = 21"
   ]
  },
  {
   "cell_type": "code",
   "execution_count": 436,
   "metadata": {
    "ExecuteTime": {
     "end_time": "2019-02-27T05:03:35.963448Z",
     "start_time": "2019-02-27T05:03:35.675563Z"
    }
   },
   "outputs": [
    {
     "data": {
      "text/plain": [
       "<matplotlib.axes._subplots.AxesSubplot at 0x1a3e76eac8>"
      ]
     },
     "execution_count": 436,
     "metadata": {},
     "output_type": "execute_result"
    },
    {
     "data": {
      "image/png": "[encoded data removed]",
      "text/plain": [
       "<Figure size 432x288 with 1 Axes>"
      ]
     },
     "metadata": {
      "needs_background": "light"
     },
     "output_type": "display_data"
    }
   ],
   "source": [
    "sns.distplot(df.EV)"
   ]
  },
  {
   "cell_type": "code",
   "execution_count": 437,
   "metadata": {
    "ExecuteTime": {
     "end_time": "2019-02-27T05:03:36.596379Z",
     "start_time": "2019-02-27T05:03:36.314621Z"
    }
   },
   "outputs": [
    {
     "data": {
      "text/plain": [
       "<matplotlib.axes._subplots.AxesSubplot at 0x1a25375b70>"
      ]
     },
     "execution_count": 437,
     "metadata": {},
     "output_type": "execute_result"
    },
    {
     "data": {
      "image/png": "[encoded data removed]",
      "text/plain": [
       "<Figure size 432x288 with 1 Axes>"
      ]
     },
     "metadata": {
      "needs_background": "light"
     },
     "output_type": "display_data"
    }
   ],
   "source": [
    "sns.distplot(df.adview,bins=50)"
   ]
  },
  {
   "cell_type": "code",
   "execution_count": 438,
   "metadata": {
    "ExecuteTime": {
     "end_time": "2019-02-27T05:03:37.192470Z",
     "start_time": "2019-02-27T05:03:36.936797Z"
    }
   },
   "outputs": [],
   "source": [
    "df.adview[df.adview > 200] = 250"
   ]
  },
  {
   "cell_type": "code",
   "execution_count": 439,
   "metadata": {
    "ExecuteTime": {
     "end_time": "2019-02-27T05:03:37.788235Z",
     "start_time": "2019-02-27T05:03:37.529559Z"
    }
   },
   "outputs": [
    {
     "data": {
      "text/plain": [
       "<matplotlib.axes._subplots.AxesSubplot at 0x1a25145860>"
      ]
     },
     "execution_count": 439,
     "metadata": {},
     "output_type": "execute_result"
    },
    {
     "data": {
      "image/png": "[encoded data removed]",
      "text/plain": [
       "<Figure size 432x288 with 1 Axes>"
      ]
     },
     "metadata": {
      "needs_background": "light"
     },
     "output_type": "display_data"
    }
   ],
   "source": [
    "sns.distplot(df.lead,bins=30)"
   ]
  },
  {
   "cell_type": "code",
   "execution_count": 440,
   "metadata": {
    "ExecuteTime": {
     "end_time": "2019-02-27T05:03:38.367372Z",
     "start_time": "2019-02-27T05:03:38.125027Z"
    }
   },
   "outputs": [],
   "source": [
    "df.lead[df.lead > 2] = 4"
   ]
  },
  {
   "cell_type": "code",
   "execution_count": 441,
   "metadata": {
    "ExecuteTime": {
     "end_time": "2019-02-27T05:03:38.985422Z",
     "start_time": "2019-02-27T05:03:38.691783Z"
    }
   },
   "outputs": [
    {
     "data": {
      "text/plain": [
       "<matplotlib.axes._subplots.AxesSubplot at 0x1a25c2d2b0>"
      ]
     },
     "execution_count": 441,
     "metadata": {},
     "output_type": "execute_result"
    },
    {
     "data": {
      "image/png": "[encoded data removed]",
      "text/plain": [
       "<Figure size 432x288 with 1 Axes>"
      ]
     },
     "metadata": {
      "needs_background": "light"
     },
     "output_type": "display_data"
    }
   ],
   "source": [
    "sns.distplot(df.open_site,bins=40)"
   ]
  },
  {
   "cell_type": "code",
   "execution_count": 442,
   "metadata": {
    "ExecuteTime": {
     "end_time": "2019-02-27T05:03:39.610575Z",
     "start_time": "2019-02-27T05:03:39.329395Z"
    }
   },
   "outputs": [
    {
     "data": {
      "text/plain": [
       "<matplotlib.axes._subplots.AxesSubplot at 0x1a26033cc0>"
      ]
     },
     "execution_count": 442,
     "metadata": {},
     "output_type": "execute_result"
    },
    {
     "data": {
      "image/png": "[encoded data removed]",
      "text/plain": [
       "<Figure size 432x288 with 1 Axes>"
      ]
     },
     "metadata": {
      "needs_background": "light"
     },
     "output_type": "display_data"
    }
   ],
   "source": [
    "sns.distplot(df.time_spent,bins=50)"
   ]
  },
  {
   "cell_type": "code",
   "execution_count": 443,
   "metadata": {
    "ExecuteTime": {
     "end_time": "2019-02-27T05:03:42.305670Z",
     "start_time": "2019-02-27T05:03:42.028684Z"
    }
   },
   "outputs": [],
   "source": [
    "df.time_spent[df.time_spent > 6000] = 6100"
   ]
  },
  {
   "cell_type": "code",
   "execution_count": 130,
   "metadata": {
    "ExecuteTime": {
     "end_time": "2019-02-26T11:17:53.712498Z",
     "start_time": "2019-02-26T11:17:53.627631Z"
    }
   },
   "outputs": [],
   "source": [
    "df_loggin = df[df['login_user']==1]\n",
    "df_loggin = df_loggin[df_loggin['adview'] < 7343]\n",
    "df_loggin = df_loggin[df_loggin['lead'] < 5201]\n",
    "\n",
    "df_nonloggin = df_nonloggin[df_nonloggin['login_user']==0]\n",
    "df_nonloggin = df_nonloggin[df_nonloggin['adview'] < 7343]\n",
    "df_nonloggin = df_nonloggin[df_nonloggin['lead'] < 5201]"
   ]
  },
  {
   "cell_type": "code",
   "execution_count": 42,
   "metadata": {
    "ExecuteTime": {
     "end_time": "2019-02-27T03:13:02.230329Z",
     "start_time": "2019-02-27T03:13:00.216179Z"
    }
   },
   "outputs": [
    {
     "data": {
      "text/plain": [
       "<matplotlib.axes._subplots.AxesSubplot at 0x1a2ca9c6a0>"
      ]
     },
     "execution_count": 42,
     "metadata": {},
     "output_type": "execute_result"
    },
    {
     "data": {
      "image/png": "[encoded data removed]",
      "text/plain": [
       "<Figure size 432x288 with 1 Axes>"
      ]
     },
     "metadata": {
      "needs_background": "light"
     },
     "output_type": "display_data"
    }
   ],
   "source": [
    "sns.scatterplot(x='adview',y='lead',data=df)"
   ]
  },
  {
   "cell_type": "code",
   "execution_count": 444,
   "metadata": {
    "ExecuteTime": {
     "end_time": "2019-02-27T05:03:47.194766Z",
     "start_time": "2019-02-27T05:03:47.177324Z"
    }
   },
   "outputs": [
    {
     "data": {
      "text/html": [
       "<div>\n",
       "<style scoped>\n",
       "    .dataframe tbody tr th:only-of-type {\n",
       "        vertical-align: middle;\n",
       "    }\n",
       "\n",
       "    .dataframe tbody tr th {\n",
       "        vertical-align: top;\n",
       "    }\n",
       "\n",
       "    .dataframe thead th {\n",
       "        text-align: right;\n",
       "    }\n",
       "</style>\n",
       "<table border=\"1\" class=\"dataframe\">\n",
       "  <thead>\n",
       "    <tr style=\"text-align: right;\">\n",
       "      <th></th>\n",
       "      <th>unique_id</th>\n",
       "      <th>EV</th>\n",
       "      <th>adview</th>\n",
       "      <th>lead</th>\n",
       "      <th>open_site</th>\n",
       "      <th>time_spent</th>\n",
       "    </tr>\n",
       "  </thead>\n",
       "  <tbody>\n",
       "    <tr>\n",
       "      <th>0</th>\n",
       "      <td>-5845554329077482100</td>\n",
       "      <td>21.0</td>\n",
       "      <td>250.0</td>\n",
       "      <td>0.0</td>\n",
       "      <td>7.0</td>\n",
       "      <td>3732.0</td>\n",
       "    </tr>\n",
       "    <tr>\n",
       "      <th>1</th>\n",
       "      <td>-7035673743656120698</td>\n",
       "      <td>21.0</td>\n",
       "      <td>250.0</td>\n",
       "      <td>4.0</td>\n",
       "      <td>6.0</td>\n",
       "      <td>3015.0</td>\n",
       "    </tr>\n",
       "    <tr>\n",
       "      <th>2</th>\n",
       "      <td>-6837294526721035123</td>\n",
       "      <td>21.0</td>\n",
       "      <td>68.0</td>\n",
       "      <td>0.0</td>\n",
       "      <td>7.0</td>\n",
       "      <td>2825.0</td>\n",
       "    </tr>\n",
       "    <tr>\n",
       "      <th>3</th>\n",
       "      <td>-8702352662730898996</td>\n",
       "      <td>21.0</td>\n",
       "      <td>250.0</td>\n",
       "      <td>1.0</td>\n",
       "      <td>6.0</td>\n",
       "      <td>5707.0</td>\n",
       "    </tr>\n",
       "    <tr>\n",
       "      <th>4</th>\n",
       "      <td>-5366375133062290962</td>\n",
       "      <td>21.0</td>\n",
       "      <td>183.0</td>\n",
       "      <td>4.0</td>\n",
       "      <td>7.0</td>\n",
       "      <td>1996.0</td>\n",
       "    </tr>\n",
       "  </tbody>\n",
       "</table>\n",
       "</div>"
      ],
      "text/plain": [
       "              unique_id    EV  adview  lead  open_site  time_spent\n",
       "0  -5845554329077482100  21.0   250.0   0.0        7.0      3732.0\n",
       "1  -7035673743656120698  21.0   250.0   4.0        6.0      3015.0\n",
       "2  -6837294526721035123  21.0    68.0   0.0        7.0      2825.0\n",
       "3  -8702352662730898996  21.0   250.0   1.0        6.0      5707.0\n",
       "4  -5366375133062290962  21.0   183.0   4.0        7.0      1996.0"
      ]
     },
     "execution_count": 444,
     "metadata": {},
     "output_type": "execute_result"
    }
   ],
   "source": [
    "df.head()"
   ]
  },
  {
   "cell_type": "code",
   "execution_count": 445,
   "metadata": {
    "ExecuteTime": {
     "end_time": "2019-02-27T05:03:47.945297Z",
     "start_time": "2019-02-27T05:03:47.936806Z"
    }
   },
   "outputs": [],
   "source": [
    "X = df.iloc[:, [1, 5]].values"
   ]
  },
  {
   "cell_type": "code",
   "execution_count": 446,
   "metadata": {
    "ExecuteTime": {
     "end_time": "2019-02-27T05:03:56.078893Z",
     "start_time": "2019-02-27T05:03:48.857054Z"
    }
   },
   "outputs": [
    {
     "data": {
      "image/png": "[encoded data removed]",
      "text/plain": [
       "<Figure size 432x288 with 1 Axes>"
      ]
     },
     "metadata": {
      "needs_background": "light"
     },
     "output_type": "display_data"
    }
   ],
   "source": [
    "from sklearn.cluster import KMeans\n",
    "wcss = []\n",
    "for i in range(1, 6):\n",
    "    kmeans = KMeans(n_clusters = i, init = 'k-means++', random_state = 0)\n",
    "    kmeans.fit(X)\n",
    "    wcss.append(kmeans.inertia_)\n",
    "plt.plot(range(1, 6), wcss)\n",
    "plt.title('The Elbow Method')\n",
    "plt.xlabel('Number of clusters')\n",
    "plt.ylabel('WCSS')\n",
    "plt.show()"
   ]
  },
  {
   "cell_type": "code",
   "execution_count": 473,
   "metadata": {
    "ExecuteTime": {
     "end_time": "2019-02-27T05:05:51.775217Z",
     "start_time": "2019-02-27T05:05:49.767091Z"
    }
   },
   "outputs": [],
   "source": [
    "kmeans = KMeans(n_clusters = 4, init = 'k-means++', random_state = 0)\n",
    "y_kmeans = kmeans.fit_predict(X)"
   ]
  },
  {
   "cell_type": "code",
   "execution_count": 474,
   "metadata": {
    "ExecuteTime": {
     "end_time": "2019-02-27T05:05:53.418699Z",
     "start_time": "2019-02-27T05:05:53.411989Z"
    }
   },
   "outputs": [],
   "source": [
    "df['cluster']= kmeans.labels_"
   ]
  },
  {
   "cell_type": "code",
   "execution_count": 475,
   "metadata": {
    "ExecuteTime": {
     "end_time": "2019-02-27T05:05:53.979176Z",
     "start_time": "2019-02-27T05:05:53.963124Z"
    }
   },
   "outputs": [
    {
     "data": {
      "text/html": [
       "<div>\n",
       "<style scoped>\n",
       "    .dataframe tbody tr th:only-of-type {\n",
       "        vertical-align: middle;\n",
       "    }\n",
       "\n",
       "    .dataframe tbody tr th {\n",
       "        vertical-align: top;\n",
       "    }\n",
       "\n",
       "    .dataframe thead th {\n",
       "        text-align: right;\n",
       "    }\n",
       "</style>\n",
       "<table border=\"1\" class=\"dataframe\">\n",
       "  <thead>\n",
       "    <tr style=\"text-align: right;\">\n",
       "      <th></th>\n",
       "      <th>unique_id</th>\n",
       "      <th>EV</th>\n",
       "      <th>adview</th>\n",
       "      <th>lead</th>\n",
       "      <th>open_site</th>\n",
       "      <th>time_spent</th>\n",
       "      <th>cluster</th>\n",
       "    </tr>\n",
       "  </thead>\n",
       "  <tbody>\n",
       "    <tr>\n",
       "      <th>0</th>\n",
       "      <td>-5845554329077482100</td>\n",
       "      <td>21.0</td>\n",
       "      <td>250.0</td>\n",
       "      <td>0.0</td>\n",
       "      <td>7.0</td>\n",
       "      <td>3732.0</td>\n",
       "      <td>0</td>\n",
       "    </tr>\n",
       "    <tr>\n",
       "      <th>1</th>\n",
       "      <td>-7035673743656120698</td>\n",
       "      <td>21.0</td>\n",
       "      <td>250.0</td>\n",
       "      <td>4.0</td>\n",
       "      <td>6.0</td>\n",
       "      <td>3015.0</td>\n",
       "      <td>0</td>\n",
       "    </tr>\n",
       "    <tr>\n",
       "      <th>2</th>\n",
       "      <td>-6837294526721035123</td>\n",
       "      <td>21.0</td>\n",
       "      <td>68.0</td>\n",
       "      <td>0.0</td>\n",
       "      <td>7.0</td>\n",
       "      <td>2825.0</td>\n",
       "      <td>0</td>\n",
       "    </tr>\n",
       "    <tr>\n",
       "      <th>3</th>\n",
       "      <td>-8702352662730898996</td>\n",
       "      <td>21.0</td>\n",
       "      <td>250.0</td>\n",
       "      <td>1.0</td>\n",
       "      <td>6.0</td>\n",
       "      <td>5707.0</td>\n",
       "      <td>3</td>\n",
       "    </tr>\n",
       "    <tr>\n",
       "      <th>4</th>\n",
       "      <td>-5366375133062290962</td>\n",
       "      <td>21.0</td>\n",
       "      <td>183.0</td>\n",
       "      <td>4.0</td>\n",
       "      <td>7.0</td>\n",
       "      <td>1996.0</td>\n",
       "      <td>2</td>\n",
       "    </tr>\n",
       "  </tbody>\n",
       "</table>\n",
       "</div>"
      ],
      "text/plain": [
       "              unique_id    EV  adview  lead  open_site  time_spent  cluster\n",
       "0  -5845554329077482100  21.0   250.0   0.0        7.0      3732.0        0\n",
       "1  -7035673743656120698  21.0   250.0   4.0        6.0      3015.0        0\n",
       "2  -6837294526721035123  21.0    68.0   0.0        7.0      2825.0        0\n",
       "3  -8702352662730898996  21.0   250.0   1.0        6.0      5707.0        3\n",
       "4  -5366375133062290962  21.0   183.0   4.0        7.0      1996.0        2"
      ]
     },
     "execution_count": 475,
     "metadata": {},
     "output_type": "execute_result"
    }
   ],
   "source": [
    "df.head()"
   ]
  },
  {
   "cell_type": "code",
   "execution_count": 476,
   "metadata": {
    "ExecuteTime": {
     "end_time": "2019-02-27T05:05:54.957645Z",
     "start_time": "2019-02-27T05:05:54.606997Z"
    }
   },
   "outputs": [
    {
     "data": {
      "text/plain": [
       "<matplotlib.axes._subplots.AxesSubplot at 0x1a27574278>"
      ]
     },
     "execution_count": 476,
     "metadata": {},
     "output_type": "execute_result"
    },
    {
     "data": {
      "image/png": "[encoded data removed]",
      "text/plain": [
       "<Figure size 432x288 with 1 Axes>"
      ]
     },
     "metadata": {
      "needs_background": "light"
     },
     "output_type": "display_data"
    }
   ],
   "source": [
    "sns.boxplot(df.cluster,df.EV)"
   ]
  },
  {
   "cell_type": "code",
   "execution_count": 477,
   "metadata": {
    "ExecuteTime": {
     "end_time": "2019-02-27T05:05:57.193892Z",
     "start_time": "2019-02-27T05:05:56.907081Z"
    }
   },
   "outputs": [
    {
     "data": {
      "text/plain": [
       "<matplotlib.axes._subplots.AxesSubplot at 0x1a288684e0>"
      ]
     },
     "execution_count": 477,
     "metadata": {},
     "output_type": "execute_result"
    },
    {
     "data": {
      "image/png": "[encoded data removed]",
      "text/plain": [
       "<Figure size 432x288 with 1 Axes>"
      ]
     },
     "metadata": {
      "needs_background": "light"
     },
     "output_type": "display_data"
    }
   ],
   "source": [
    "sns.boxplot(df.cluster,df.adview)"
   ]
  },
  {
   "cell_type": "code",
   "execution_count": 478,
   "metadata": {
    "ExecuteTime": {
     "end_time": "2019-02-27T05:05:58.706777Z",
     "start_time": "2019-02-27T05:05:58.388441Z"
    }
   },
   "outputs": [
    {
     "data": {
      "text/plain": [
       "<matplotlib.axes._subplots.AxesSubplot at 0x1a24e08550>"
      ]
     },
     "execution_count": 478,
     "metadata": {},
     "output_type": "execute_result"
    },
    {
     "data": {
      "image/png": "[encoded data removed]",
      "text/plain": [
       "<Figure size 432x288 with 1 Axes>"
      ]
     },
     "metadata": {
      "needs_background": "light"
     },
     "output_type": "display_data"
    }
   ],
   "source": [
    "sns.boxplot(df.cluster,df.lead)"
   ]
  },
  {
   "cell_type": "code",
   "execution_count": 479,
   "metadata": {
    "ExecuteTime": {
     "end_time": "2019-02-27T05:06:00.974046Z",
     "start_time": "2019-02-27T05:06:00.694785Z"
    }
   },
   "outputs": [
    {
     "data": {
      "text/plain": [
       "<matplotlib.axes._subplots.AxesSubplot at 0x1a29157e10>"
      ]
     },
     "execution_count": 479,
     "metadata": {},
     "output_type": "execute_result"
    },
    {
     "data": {
      "image/png": "[encoded data removed]",
      "text/plain": [
       "<Figure size 432x288 with 1 Axes>"
      ]
     },
     "metadata": {
      "needs_background": "light"
     },
     "output_type": "display_data"
    }
   ],
   "source": [
    "sns.boxplot(df.cluster,df.open_site)"
   ]
  },
  {
   "cell_type": "code",
   "execution_count": 480,
   "metadata": {
    "ExecuteTime": {
     "end_time": "2019-02-27T05:06:02.349683Z",
     "start_time": "2019-02-27T05:06:02.100775Z"
    }
   },
   "outputs": [
    {
     "data": {
      "text/plain": [
       "<matplotlib.axes._subplots.AxesSubplot at 0x1a25649588>"
      ]
     },
     "execution_count": 480,
     "metadata": {},
     "output_type": "execute_result"
    },
    {
     "data": {
      "image/png": "[encoded data removed]",
      "text/plain": [
       "<Figure size 432x288 with 1 Axes>"
      ]
     },
     "metadata": {
      "needs_background": "light"
     },
     "output_type": "display_data"
    }
   ],
   "source": [
    "sns.boxplot(df.cluster,df.time_spent)"
   ]
  },
  {
   "cell_type": "code",
   "execution_count": 483,
   "metadata": {
    "ExecuteTime": {
     "end_time": "2019-02-27T05:08:04.052865Z",
     "start_time": "2019-02-27T05:08:03.837282Z"
    }
   },
   "outputs": [
    {
     "name": "stdout",
     "output_type": "stream",
     "text": [
      "                 EV        adview          lead     open_site    time_spent  \\\n",
      "count  23932.000000  23932.000000  23932.000000  23932.000000  23932.000000   \n",
      "mean       5.455833     60.067817      0.813555      3.578138   3086.390105   \n",
      "std        5.505936     66.316988      1.442649      1.955876    551.298320   \n",
      "min        0.000000      0.000000      0.000000      1.000000   2302.000000   \n",
      "25%        1.000000     10.000000      0.000000      2.000000   2603.000000   \n",
      "50%        3.000000     38.000000      0.000000      3.000000   3001.000000   \n",
      "75%        7.000000     84.000000      1.000000      5.000000   3509.250000   \n",
      "max       21.000000    250.000000      4.000000      7.000000   4283.000000   \n",
      "\n",
      "       cluster  \n",
      "count  23932.0  \n",
      "mean       0.0  \n",
      "std        0.0  \n",
      "min        0.0  \n",
      "25%        0.0  \n",
      "50%        0.0  \n",
      "75%        0.0  \n",
      "max        0.0  \n",
      "                EV        adview          lead     open_site    time_spent  \\\n",
      "count  97802.00000  97802.000000  97802.000000  97802.000000  97802.000000   \n",
      "mean       1.74203      6.497229      0.115693      1.478068    406.522034   \n",
      "std        1.86513     11.627582      0.540049      0.979621    273.174553   \n",
      "min        0.00000      0.000000      0.000000      1.000000      0.000000   \n",
      "25%        1.00000      1.000000      0.000000      1.000000    168.000000   \n",
      "50%        1.00000      2.000000      0.000000      1.000000    373.000000   \n",
      "75%        2.00000      8.000000      0.000000      2.000000    626.000000   \n",
      "max       21.00000    250.000000      4.000000      7.000000    960.000000   \n",
      "\n",
      "       cluster  \n",
      "count  97802.0  \n",
      "mean       1.0  \n",
      "std        0.0  \n",
      "min        1.0  \n",
      "25%        1.0  \n",
      "50%        1.0  \n",
      "75%        1.0  \n",
      "max        1.0  \n",
      "                 EV        adview          lead     open_site    time_spent  \\\n",
      "count  50871.000000  50871.000000  50871.000000  50871.000000  50871.000000   \n",
      "mean       3.489591     26.786912      0.454188      2.538421   1512.395432   \n",
      "std        4.029126     36.825399      1.107678      1.700742    377.161042   \n",
      "min        0.000000      0.000000      0.000000      1.000000    961.000000   \n",
      "25%        1.000000      4.000000      0.000000      1.000000   1183.000000   \n",
      "50%        2.000000     15.000000      0.000000      2.000000   1455.000000   \n",
      "75%        4.000000     35.000000      0.000000      3.000000   1812.000000   \n",
      "max       21.000000    250.000000      4.000000      7.000000   2301.000000   \n",
      "\n",
      "       cluster  \n",
      "count  50871.0  \n",
      "mean       2.0  \n",
      "std        0.0  \n",
      "min        2.0  \n",
      "25%        2.0  \n",
      "50%        2.0  \n",
      "75%        2.0  \n",
      "max        2.0  \n",
      "                 EV        adview          lead     open_site    time_spent  \\\n",
      "count  11541.000000  11541.000000  11541.000000  11541.000000  11541.000000   \n",
      "mean       7.267741    103.712070      1.180747      4.485400   5475.886665   \n",
      "std        6.283363     90.490049      1.653654      1.908269    652.445573   \n",
      "min        0.000000      0.000000      0.000000      1.000000   4284.000000   \n",
      "25%        2.000000     21.000000      0.000000      3.000000   4858.000000   \n",
      "50%        5.000000     77.000000      0.000000      5.000000   5678.000000   \n",
      "75%       11.000000    173.000000      2.000000      6.000000   6100.000000   \n",
      "max       21.000000    250.000000      4.000000      7.000000   6100.000000   \n",
      "\n",
      "       cluster  \n",
      "count  11541.0  \n",
      "mean       3.0  \n",
      "std        0.0  \n",
      "min        3.0  \n",
      "25%        3.0  \n",
      "50%        3.0  \n",
      "75%        3.0  \n",
      "max        3.0  \n"
     ]
    }
   ],
   "source": [
    "for x in range(0,4):\n",
    "    print(df[df.cluster == x].describe())"
   ]
  },
  {
   "cell_type": "code",
   "execution_count": 482,
   "metadata": {
    "ExecuteTime": {
     "end_time": "2019-02-27T05:06:03.658674Z",
     "start_time": "2019-02-27T05:06:03.501298Z"
    }
   },
   "outputs": [
    {
     "data": {
      "text/plain": [
       "<matplotlib.axes._subplots.AxesSubplot at 0x1a234aecc0>"
      ]
     },
     "execution_count": 482,
     "metadata": {},
     "output_type": "execute_result"
    },
    {
     "data": {
      "image/png": "[encoded data removed]",
      "text/plain": [
       "<Figure size 432x288 with 1 Axes>"
      ]
     },
     "metadata": {
      "needs_background": "light"
     },
     "output_type": "display_data"
    }
   ],
   "source": [
    "sns.countplot(x='cluster',data=df)"
   ]
  },
  {
   "cell_type": "code",
   "execution_count": 392,
   "metadata": {
    "ExecuteTime": {
     "end_time": "2019-02-27T04:57:22.542442Z",
     "start_time": "2019-02-27T04:57:22.481951Z"
    }
   },
   "outputs": [
    {
     "name": "stdout",
     "output_type": "stream",
     "text": [
      "<class 'pandas.core.frame.DataFrame'>\n",
      "Int64Index: 184155 entries, 0 to 184155\n",
      "Data columns (total 7 columns):\n",
      "unique_id     184155 non-null object\n",
      "EV            184155 non-null float64\n",
      "adview        184155 non-null float64\n",
      "lead          184155 non-null float64\n",
      "open_site     184155 non-null float64\n",
      "time_spent    184155 non-null float64\n",
      "cluster       184155 non-null int32\n",
      "dtypes: float64(5), int32(1), object(1)\n",
      "memory usage: 15.5+ MB\n"
     ]
    }
   ],
   "source": [
    "df.info()"
   ]
  },
  {
   "cell_type": "code",
   "execution_count": 394,
   "metadata": {
    "ExecuteTime": {
     "end_time": "2019-02-27T04:57:44.404362Z",
     "start_time": "2019-02-27T04:57:44.239692Z"
    }
   },
   "outputs": [
    {
     "data": {
      "text/html": [
       "<div>\n",
       "<style scoped>\n",
       "    .dataframe tbody tr th:only-of-type {\n",
       "        vertical-align: middle;\n",
       "    }\n",
       "\n",
       "    .dataframe tbody tr th {\n",
       "        vertical-align: top;\n",
       "    }\n",
       "\n",
       "    .dataframe thead th {\n",
       "        text-align: right;\n",
       "    }\n",
       "</style>\n",
       "<table border=\"1\" class=\"dataframe\">\n",
       "  <thead>\n",
       "    <tr style=\"text-align: right;\">\n",
       "      <th></th>\n",
       "      <th>EV</th>\n",
       "      <th>adview</th>\n",
       "      <th>lead</th>\n",
       "      <th>open_site</th>\n",
       "      <th>time_spent</th>\n",
       "      <th>cluster</th>\n",
       "    </tr>\n",
       "  </thead>\n",
       "  <tbody>\n",
       "    <tr>\n",
       "      <th>count</th>\n",
       "      <td>156119.000000</td>\n",
       "      <td>156119.000000</td>\n",
       "      <td>156119.0</td>\n",
       "      <td>156119.000000</td>\n",
       "      <td>156119.000000</td>\n",
       "      <td>156119.000000</td>\n",
       "    </tr>\n",
       "    <tr>\n",
       "      <th>mean</th>\n",
       "      <td>2.542349</td>\n",
       "      <td>15.726849</td>\n",
       "      <td>0.0</td>\n",
       "      <td>1.977363</td>\n",
       "      <td>1185.901056</td>\n",
       "      <td>0.355184</td>\n",
       "    </tr>\n",
       "    <tr>\n",
       "      <th>std</th>\n",
       "      <td>3.203041</td>\n",
       "      <td>32.287837</td>\n",
       "      <td>0.0</td>\n",
       "      <td>1.499493</td>\n",
       "      <td>1295.453418</td>\n",
       "      <td>0.596290</td>\n",
       "    </tr>\n",
       "    <tr>\n",
       "      <th>min</th>\n",
       "      <td>0.000000</td>\n",
       "      <td>0.000000</td>\n",
       "      <td>0.0</td>\n",
       "      <td>0.000000</td>\n",
       "      <td>0.000000</td>\n",
       "      <td>0.000000</td>\n",
       "    </tr>\n",
       "    <tr>\n",
       "      <th>25%</th>\n",
       "      <td>1.000000</td>\n",
       "      <td>1.000000</td>\n",
       "      <td>0.0</td>\n",
       "      <td>1.000000</td>\n",
       "      <td>296.000000</td>\n",
       "      <td>0.000000</td>\n",
       "    </tr>\n",
       "    <tr>\n",
       "      <th>50%</th>\n",
       "      <td>1.000000</td>\n",
       "      <td>4.000000</td>\n",
       "      <td>0.0</td>\n",
       "      <td>1.000000</td>\n",
       "      <td>737.000000</td>\n",
       "      <td>0.000000</td>\n",
       "    </tr>\n",
       "    <tr>\n",
       "      <th>75%</th>\n",
       "      <td>3.000000</td>\n",
       "      <td>15.000000</td>\n",
       "      <td>0.0</td>\n",
       "      <td>2.000000</td>\n",
       "      <td>1584.000000</td>\n",
       "      <td>1.000000</td>\n",
       "    </tr>\n",
       "    <tr>\n",
       "      <th>max</th>\n",
       "      <td>21.000000</td>\n",
       "      <td>250.000000</td>\n",
       "      <td>0.0</td>\n",
       "      <td>7.000000</td>\n",
       "      <td>6100.000000</td>\n",
       "      <td>2.000000</td>\n",
       "    </tr>\n",
       "  </tbody>\n",
       "</table>\n",
       "</div>"
      ],
      "text/plain": [
       "                  EV         adview      lead      open_site     time_spent  \\\n",
       "count  156119.000000  156119.000000  156119.0  156119.000000  156119.000000   \n",
       "mean        2.542349      15.726849       0.0       1.977363    1185.901056   \n",
       "std         3.203041      32.287837       0.0       1.499493    1295.453418   \n",
       "min         0.000000       0.000000       0.0       0.000000       0.000000   \n",
       "25%         1.000000       1.000000       0.0       1.000000     296.000000   \n",
       "50%         1.000000       4.000000       0.0       1.000000     737.000000   \n",
       "75%         3.000000      15.000000       0.0       2.000000    1584.000000   \n",
       "max        21.000000     250.000000       0.0       7.000000    6100.000000   \n",
       "\n",
       "             cluster  \n",
       "count  156119.000000  \n",
       "mean        0.355184  \n",
       "std         0.596290  \n",
       "min         0.000000  \n",
       "25%         0.000000  \n",
       "50%         0.000000  \n",
       "75%         1.000000  \n",
       "max         2.000000  "
      ]
     },
     "execution_count": 394,
     "metadata": {},
     "output_type": "execute_result"
    }
   ],
   "source": [
    "df[df.lead == 0].describe()"
   ]
  },
  {
   "cell_type": "code",
   "execution_count": null,
   "metadata": {},
   "outputs": [],
   "source": []
  }
 ],
 "metadata": {
  "kernelspec": {
   "display_name": "Python 3",
   "language": "python",
   "name": "python3"
  },
  "language_info": {
   "codemirror_mode": {
    "name": "ipython",
    "version": 3
   },
   "file_extension": ".py",
   "mimetype": "text/x-python",
   "name": "python",
   "nbconvert_exporter": "python",
   "pygments_lexer": "ipython3",
   "version": "3.7.1"
  },
  "toc": {
   "base_numbering": 1,
   "nav_menu": {},
   "number_sections": true,
   "sideBar": true,
   "skip_h1_title": false,
   "title_cell": "Table of Contents",
   "title_sidebar": "Contents",
   "toc_cell": false,
   "toc_position": {},
   "toc_section_display": true,
   "toc_window_display": false
  },
  "varInspector": {
   "cols": {
    "lenName": 16,
    "lenType": 16,
    "lenVar": 40
   },
   "kernels_config": {
    "python": {
     "delete_cmd_postfix": "",
     "delete_cmd_prefix": "del ",
     "library": "var_list.py",
     "varRefreshCmd": "print(var_dic_list())"
    },
    "r": {
     "delete_cmd_postfix": ") ",
     "delete_cmd_prefix": "rm(",
     "library": "var_list.r",
     "varRefreshCmd": "cat(var_dic_list()) "
    }
   },
   "types_to_exclude": [
    "module",
    "function",
    "builtin_function_or_method",
    "instance",
    "_Feature"
   ],
   "window_display": false
  }
 },
 "nbformat": 4,
 "nbformat_minor": 2
}
